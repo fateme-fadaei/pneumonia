{
  "nbformat": 4,
  "nbformat_minor": 0,
  "metadata": {
    "colab": {
      "provenance": [],
      "gpuType": "L4",
      "machine_shape": "hm"
    },
    "kernelspec": {
      "name": "python3",
      "display_name": "Python 3"
    },
    "language_info": {
      "name": "python"
    },
    "accelerator": "GPU"
  },
  "cells": [
    {
      "cell_type": "code",
      "source": [
        "!pip install opendatasets"
      ],
      "metadata": {
        "colab": {
          "base_uri": "https://localhost:8080/"
        },
        "id": "ZYsQJQOQvDm3",
        "outputId": "5824e747-96f1-42ea-928c-64140ae41abc"
      },
      "execution_count": 1,
      "outputs": [
        {
          "output_type": "stream",
          "name": "stdout",
          "text": [
            "Collecting opendatasets\n",
            "  Downloading opendatasets-0.1.22-py3-none-any.whl (15 kB)\n",
            "Requirement already satisfied: tqdm in /usr/local/lib/python3.10/dist-packages (from opendatasets) (4.66.4)\n",
            "Requirement already satisfied: kaggle in /usr/local/lib/python3.10/dist-packages (from opendatasets) (1.6.14)\n",
            "Requirement already satisfied: click in /usr/local/lib/python3.10/dist-packages (from opendatasets) (8.1.7)\n",
            "Requirement already satisfied: six>=1.10 in /usr/local/lib/python3.10/dist-packages (from kaggle->opendatasets) (1.16.0)\n",
            "Requirement already satisfied: certifi>=2023.7.22 in /usr/local/lib/python3.10/dist-packages (from kaggle->opendatasets) (2024.2.2)\n",
            "Requirement already satisfied: python-dateutil in /usr/local/lib/python3.10/dist-packages (from kaggle->opendatasets) (2.8.2)\n",
            "Requirement already satisfied: requests in /usr/local/lib/python3.10/dist-packages (from kaggle->opendatasets) (2.31.0)\n",
            "Requirement already satisfied: python-slugify in /usr/local/lib/python3.10/dist-packages (from kaggle->opendatasets) (8.0.4)\n",
            "Requirement already satisfied: urllib3 in /usr/local/lib/python3.10/dist-packages (from kaggle->opendatasets) (2.0.7)\n",
            "Requirement already satisfied: bleach in /usr/local/lib/python3.10/dist-packages (from kaggle->opendatasets) (6.1.0)\n",
            "Requirement already satisfied: webencodings in /usr/local/lib/python3.10/dist-packages (from bleach->kaggle->opendatasets) (0.5.1)\n",
            "Requirement already satisfied: text-unidecode>=1.3 in /usr/local/lib/python3.10/dist-packages (from python-slugify->kaggle->opendatasets) (1.3)\n",
            "Requirement already satisfied: charset-normalizer<4,>=2 in /usr/local/lib/python3.10/dist-packages (from requests->kaggle->opendatasets) (3.3.2)\n",
            "Requirement already satisfied: idna<4,>=2.5 in /usr/local/lib/python3.10/dist-packages (from requests->kaggle->opendatasets) (3.7)\n",
            "Installing collected packages: opendatasets\n",
            "Successfully installed opendatasets-0.1.22\n"
          ]
        }
      ]
    },
    {
      "cell_type": "markdown",
      "source": [
        "----\n",
        "## Loading Pneumonia Dataset from kaggle"
      ],
      "metadata": {
        "id": "o3N9po4EzFH4"
      }
    },
    {
      "cell_type": "code",
      "execution_count": 2,
      "metadata": {
        "colab": {
          "base_uri": "https://localhost:8080/"
        },
        "id": "kjaECFDTu1sD",
        "outputId": "380a177f-b8b8-4b8e-b826-b73b3b83e2eb"
      },
      "outputs": [
        {
          "output_type": "stream",
          "name": "stdout",
          "text": [
            "Please provide your Kaggle credentials to download this dataset. Learn more: http://bit.ly/kaggle-creds\n",
            "Your Kaggle username: fatemeh.fe76it@gmail.com\n",
            "Your Kaggle Key: ··········\n",
            "Dataset URL: https://www.kaggle.com/datasets/paultimothymooney/chest-xray-pneumonia\n",
            "Downloading chest-xray-pneumonia.zip to ./chest-xray-pneumonia\n"
          ]
        },
        {
          "output_type": "stream",
          "name": "stderr",
          "text": [
            "100%|██████████| 2.29G/2.29G [00:18<00:00, 136MB/s]\n"
          ]
        },
        {
          "output_type": "stream",
          "name": "stdout",
          "text": [
            "\n"
          ]
        }
      ],
      "source": [
        "import opendatasets as od\n",
        "\n",
        "od.download(\n",
        "    \"https://www.kaggle.com/datasets/paultimothymooney/chest-xray-pneumonia\")"
      ]
    },
    {
      "cell_type": "code",
      "source": [
        "import os\n",
        "os.listdir()"
      ],
      "metadata": {
        "colab": {
          "base_uri": "https://localhost:8080/"
        },
        "id": "h2vSoSaUveuD",
        "outputId": "6fa06dac-99fc-48e1-9b4a-df6bc67c7ac9"
      },
      "execution_count": 3,
      "outputs": [
        {
          "output_type": "execute_result",
          "data": {
            "text/plain": [
              "['.config', 'chest-xray-pneumonia', 'sample_data']"
            ]
          },
          "metadata": {},
          "execution_count": 3
        }
      ]
    },
    {
      "cell_type": "code",
      "source": [
        "os.chdir(\"chest-xray-pneumonia\")\n",
        "os.listdir()"
      ],
      "metadata": {
        "id": "HoVrDxN3vm5i",
        "colab": {
          "base_uri": "https://localhost:8080/"
        },
        "outputId": "ad531440-c8c5-4ce3-acdd-9821b755bcee"
      },
      "execution_count": 4,
      "outputs": [
        {
          "output_type": "execute_result",
          "data": {
            "text/plain": [
              "['chest_xray']"
            ]
          },
          "metadata": {},
          "execution_count": 4
        }
      ]
    },
    {
      "cell_type": "code",
      "source": [
        "# For local system\n",
        "path = 'chest_xray'\n",
        "\n",
        "train_NORAML_data = os.listdir(path+'/train/NORMAL')\n",
        "train_PNEUMONIA_data = os.listdir(path+'/train/PNEUMONIA')\n",
        "test_NORAML_data = os.listdir(path+'/test/NORMAL')\n",
        "test_PNEUMONIA_data = os.listdir(path+'/test/PNEUMONIA')\n",
        "\n",
        "print(f'number of images in train_NORAML_data : {len(train_NORAML_data)}')\n",
        "print(f'number of images in train_PNEUMONIA_data : {len(train_PNEUMONIA_data)}')\n",
        "print(f'number of images in test_NORAML_data : {len(test_NORAML_data)}')\n",
        "print(f'number of images in test_PNEUMONIA_data : {len(test_PNEUMONIA_data)}')"
      ],
      "metadata": {
        "colab": {
          "base_uri": "https://localhost:8080/"
        },
        "id": "DuSe_JeQv8kn",
        "outputId": "e0709134-0721-4f98-cb87-9d0d3e342198"
      },
      "execution_count": 5,
      "outputs": [
        {
          "output_type": "stream",
          "name": "stdout",
          "text": [
            "number of images in train_NORAML_data : 1341\n",
            "number of images in train_PNEUMONIA_data : 3875\n",
            "number of images in test_NORAML_data : 234\n",
            "number of images in test_PNEUMONIA_data : 390\n"
          ]
        }
      ]
    },
    {
      "cell_type": "markdown",
      "source": [
        "----\n",
        "## Creating Data Generators"
      ],
      "metadata": {
        "id": "03gIdeoA0u1b"
      }
    },
    {
      "cell_type": "code",
      "source": [
        "base_dir = 'chest_xray/chest_xray'\n",
        "\n",
        "import os\n",
        "from tensorflow.keras.preprocessing.image import ImageDataGenerator\n",
        "\n",
        "train_dir = os.path.join( base_dir, 'train')\n",
        "validation_dir = os.path.join( base_dir, 'test')\n",
        "\n",
        "# Directory with training PNEUMONIA pictures\n",
        "train_pneumonia_dir = os.path.join(train_dir, 'PNEUMONIA')\n",
        "\n",
        "# Directory with training NORMAL pictures\n",
        "train_normal_dir = os.path.join(train_dir, 'NORMAL')\n",
        "\n",
        "# Directory with validation PNEUMONIA pictures\n",
        "validation_pneumonia_dir = os.path.join(validation_dir, 'PNEUMONIA')\n",
        "\n",
        "# Directory with validation NORMAL pictures\n",
        "validation_normal_dir = os.path.join(validation_dir, 'NORMAL')\n",
        "\n",
        "# Add our data-augmentation parameters to ImageDataGenerator\n",
        "train_datagen = ImageDataGenerator(rescale = 1./255.,\n",
        "                                   rotation_range = 40,\n",
        "                                   width_shift_range = 0.2,\n",
        "                                   height_shift_range = 0.2,\n",
        "                                   shear_range = 0.2,\n",
        "                                   zoom_range = 0.2,\n",
        "                                   horizontal_flip = True)\n",
        "\n",
        "# Note that the validation data should not be augmented!\n",
        "test_datagen = ImageDataGenerator( rescale = 1.0/255. )\n",
        "\n",
        "# Flow training images in batches of 10 using train_datagen generator\n",
        "train_generator = train_datagen.flow_from_directory(train_dir,\n",
        "                                                    batch_size = 10,\n",
        "                                                    class_mode = 'binary',\n",
        "                                                    target_size = (256, 256))\n",
        "\n",
        "# Flow validation images in batches of 10 using test_datagen generator\n",
        "validation_generator =  test_datagen.flow_from_directory( validation_dir,\n",
        "                                                          batch_size  = 10,\n",
        "                                                          class_mode  = 'binary',\n",
        "                                                          target_size = (256, 256))\n",
        "\n",
        "print('okay!')"
      ],
      "metadata": {
        "colab": {
          "base_uri": "https://localhost:8080/"
        },
        "id": "zFbxNqkxwe4V",
        "outputId": "d0bb415a-5f2e-4957-cfc4-78972431af43"
      },
      "execution_count": 16,
      "outputs": [
        {
          "output_type": "stream",
          "name": "stdout",
          "text": [
            "Found 5216 images belonging to 2 classes.\n",
            "Found 624 images belonging to 2 classes.\n",
            "okay!\n"
          ]
        }
      ]
    },
    {
      "cell_type": "markdown",
      "source": [
        "----\n",
        "## Loaing VGG19 model"
      ],
      "metadata": {
        "id": "Zo8ibzBh6qTr"
      }
    },
    {
      "cell_type": "code",
      "source": [
        "import tensorflow as tf\n",
        "\n",
        "base_model = tf.keras.applications.VGG19(\n",
        "    weights=\"imagenet\",  # Load weights pre-trained on ImageNet.\n",
        "    input_shape=(256, 256, 3),\n",
        "    include_top=False,\n",
        ")  # Do not include the ImageNet classifier at the top.\n"
      ],
      "metadata": {
        "id": "fu3Zp8gNw_By"
      },
      "execution_count": 26,
      "outputs": []
    },
    {
      "cell_type": "markdown",
      "source": [
        "----\n",
        "## Creating the whole model for fine tuning"
      ],
      "metadata": {
        "id": "5KjGniEt6yTO"
      }
    },
    {
      "cell_type": "code",
      "source": [
        "#Fine-Tuning\n",
        "base_model.trainable = True\n",
        "\n",
        "# Create new model on top\n",
        "inputs = tf.keras.Input(shape=(256, 256, 3))\n",
        "\n",
        "\n",
        "# The base model contains batchnorm layers. We want to keep them in inference mode\n",
        "# when we unfreeze the base model for fine-tuning, so we make sure that the\n",
        "# base_model is running in inference mode here.\n",
        "x = base_model(inputs, training=True)\n",
        "x = tf.keras.layers.GlobalAveragePooling2D()(x)\n",
        "x = tf.keras.layers.Dropout(0.2)(x)  # Regularize with dropout\n",
        "x = tf.keras.layers.Dense(1024, activation = 'relu', name = 'FC1')(x)\n",
        "x = tf.keras.layers.Dropout(0.3)(x)\n",
        "x = tf.keras.layers.Dense(256, activation = 'relu', name = 'FC2')(x)\n",
        "x = tf.keras.layers.Dropout(0.2)(x)\n",
        "x = tf.keras.layers.Dense(64, activation = 'relu', name = 'FC3')(x)\n",
        "outputs = tf.keras.layers.Dense(1, activation = 'sigmoid', name = 'classifier_layer')(x)\n",
        "\n",
        "model = tf.keras.Model(inputs, outputs)\n",
        "\n",
        "model.summary(show_trainable=True)"
      ],
      "metadata": {
        "colab": {
          "base_uri": "https://localhost:8080/"
        },
        "id": "nDyIYyO-pPOz",
        "outputId": "b1fc31f0-c290-4771-ecb6-d7492e53abe2"
      },
      "execution_count": 27,
      "outputs": [
        {
          "output_type": "stream",
          "name": "stdout",
          "text": [
            "Model: \"model_2\"\n",
            "____________________________________________________________________________\n",
            " Layer (type)                Output Shape              Param #   Trainable  \n",
            "============================================================================\n",
            " input_7 (InputLayer)        [(None, 256, 256, 3)]     0         Y          \n",
            "                                                                            \n",
            " vgg19 (Functional)          (None, 8, 8, 512)         2002438   Y          \n",
            "                                                       4                    \n",
            "                                                                            \n",
            " global_average_pooling2d_2  (None, 512)               0         Y          \n",
            "  (GlobalAveragePooling2D)                                                  \n",
            "                                                                            \n",
            " dropout_6 (Dropout)         (None, 512)               0         Y          \n",
            "                                                                            \n",
            " FC1 (Dense)                 (None, 1024)              525312    Y          \n",
            "                                                                            \n",
            " dropout_7 (Dropout)         (None, 1024)              0         Y          \n",
            "                                                                            \n",
            " FC2 (Dense)                 (None, 256)               262400    Y          \n",
            "                                                                            \n",
            " dropout_8 (Dropout)         (None, 256)               0         Y          \n",
            "                                                                            \n",
            " FC3 (Dense)                 (None, 64)                16448     Y          \n",
            "                                                                            \n",
            " classifier_layer (Dense)    (None, 1)                 65        Y          \n",
            "                                                                            \n",
            "============================================================================\n",
            "Total params: 20828609 (79.45 MB)\n",
            "Trainable params: 20828609 (79.45 MB)\n",
            "Non-trainable params: 0 (0.00 Byte)\n",
            "____________________________________________________________________________\n"
          ]
        }
      ]
    },
    {
      "cell_type": "markdown",
      "source": [],
      "metadata": {
        "id": "VJRFVPSoC_te"
      }
    },
    {
      "cell_type": "code",
      "source": [
        "op = tf.keras.optimizers.Adam(\n",
        "    learning_rate=0.0001\n",
        ")\n",
        "\n",
        "model.compile(\n",
        "\t# specify the loss function to use during training\n",
        "\tloss='binary_crossentropy',\n",
        "\t# specify the optimizer algorithm to use during training\n",
        "\toptimizer=op ,\n",
        "\t# specify the evaluation metrics to use during training\n",
        "\tmetrics=['accuracy']\n",
        ")\n"
      ],
      "metadata": {
        "id": "QU6-GUyqxNe-"
      },
      "execution_count": 28,
      "outputs": []
    },
    {
      "cell_type": "code",
      "source": [
        "import time\n",
        "\n",
        "start_time = time.time()\n",
        "\n",
        "# Train the model.\n",
        "history = model.fit(\n",
        "            train_generator,\n",
        "            validation_data = validation_generator,\n",
        "\t\t\t\t\t\tvalidation_steps = 10,\n",
        "\t\t\t\t\t\tsteps_per_epoch = 100,\n",
        "            epochs = 50)\n",
        "\n",
        "end_time = time.time()\n",
        "training_time = end_time - start_time\n",
        "print(\"Total Training Time: {} seconds\".format(training_time))"
      ],
      "metadata": {
        "colab": {
          "base_uri": "https://localhost:8080/"
        },
        "id": "4YRvr6uGxQ6L",
        "outputId": "0da7a156-b94b-4188-b52c-332e3d2f401b"
      },
      "execution_count": 29,
      "outputs": [
        {
          "output_type": "stream",
          "name": "stdout",
          "text": [
            "Epoch 1/50\n",
            "100/100 [==============================] - 28s 225ms/step - loss: 0.5960 - accuracy: 0.7000 - val_loss: 0.7331 - val_accuracy: 0.5800\n",
            "Epoch 2/50\n",
            "100/100 [==============================] - 22s 216ms/step - loss: 0.5510 - accuracy: 0.7340 - val_loss: 0.9088 - val_accuracy: 0.5400\n",
            "Epoch 3/50\n",
            "100/100 [==============================] - 21s 212ms/step - loss: 0.4788 - accuracy: 0.7651 - val_loss: 0.6287 - val_accuracy: 0.6000\n",
            "Epoch 4/50\n",
            "100/100 [==============================] - 22s 217ms/step - loss: 0.4063 - accuracy: 0.7900 - val_loss: 0.7273 - val_accuracy: 0.7300\n",
            "Epoch 5/50\n",
            "100/100 [==============================] - 21s 212ms/step - loss: 0.3761 - accuracy: 0.7850 - val_loss: 0.3858 - val_accuracy: 0.8400\n",
            "Epoch 6/50\n",
            "100/100 [==============================] - 22s 218ms/step - loss: 0.3731 - accuracy: 0.8040 - val_loss: 0.5011 - val_accuracy: 0.7700\n",
            "Epoch 7/50\n",
            "100/100 [==============================] - 22s 218ms/step - loss: 0.3451 - accuracy: 0.8353 - val_loss: 0.4877 - val_accuracy: 0.7300\n",
            "Epoch 8/50\n",
            "100/100 [==============================] - 22s 219ms/step - loss: 0.3327 - accuracy: 0.8370 - val_loss: 1.2134 - val_accuracy: 0.6600\n",
            "Epoch 9/50\n",
            "100/100 [==============================] - 22s 219ms/step - loss: 0.4228 - accuracy: 0.8042 - val_loss: 0.4363 - val_accuracy: 0.7900\n",
            "Epoch 10/50\n",
            "100/100 [==============================] - 22s 214ms/step - loss: 0.3898 - accuracy: 0.7940 - val_loss: 0.4066 - val_accuracy: 0.8700\n",
            "Epoch 11/50\n",
            "100/100 [==============================] - 22s 214ms/step - loss: 0.3423 - accuracy: 0.8310 - val_loss: 0.3928 - val_accuracy: 0.8000\n",
            "Epoch 12/50\n",
            "100/100 [==============================] - 21s 213ms/step - loss: 0.3224 - accuracy: 0.8560 - val_loss: 0.4007 - val_accuracy: 0.7900\n",
            "Epoch 13/50\n",
            "100/100 [==============================] - 22s 216ms/step - loss: 0.3360 - accuracy: 0.8240 - val_loss: 0.4663 - val_accuracy: 0.7000\n",
            "Epoch 14/50\n",
            "100/100 [==============================] - 22s 218ms/step - loss: 0.3024 - accuracy: 0.8490 - val_loss: 0.4745 - val_accuracy: 0.8500\n",
            "Epoch 15/50\n",
            "100/100 [==============================] - 22s 216ms/step - loss: 0.3180 - accuracy: 0.8640 - val_loss: 0.3977 - val_accuracy: 0.8300\n",
            "Epoch 16/50\n",
            "100/100 [==============================] - 22s 216ms/step - loss: 0.3100 - accuracy: 0.8590 - val_loss: 0.5109 - val_accuracy: 0.8300\n",
            "Epoch 17/50\n",
            "100/100 [==============================] - 22s 218ms/step - loss: 0.2734 - accuracy: 0.8725 - val_loss: 0.2904 - val_accuracy: 0.8700\n",
            "Epoch 18/50\n",
            "100/100 [==============================] - 22s 221ms/step - loss: 0.3192 - accuracy: 0.8510 - val_loss: 0.3475 - val_accuracy: 0.8600\n",
            "Epoch 19/50\n",
            "100/100 [==============================] - 22s 216ms/step - loss: 0.3760 - accuracy: 0.8770 - val_loss: 0.3589 - val_accuracy: 0.8300\n",
            "Epoch 20/50\n",
            "100/100 [==============================] - 22s 218ms/step - loss: 0.3113 - accuracy: 0.8640 - val_loss: 0.4410 - val_accuracy: 0.8000\n",
            "Epoch 21/50\n",
            "100/100 [==============================] - 22s 220ms/step - loss: 0.2734 - accuracy: 0.8820 - val_loss: 0.3734 - val_accuracy: 0.8800\n",
            "Epoch 22/50\n",
            "100/100 [==============================] - 21s 212ms/step - loss: 0.2512 - accuracy: 0.8996 - val_loss: 0.2962 - val_accuracy: 0.8800\n",
            "Epoch 23/50\n",
            "100/100 [==============================] - 22s 219ms/step - loss: 0.2809 - accuracy: 0.8790 - val_loss: 0.4946 - val_accuracy: 0.8100\n",
            "Epoch 24/50\n",
            "100/100 [==============================] - 22s 216ms/step - loss: 0.2560 - accuracy: 0.8910 - val_loss: 0.3448 - val_accuracy: 0.8600\n",
            "Epoch 25/50\n",
            "100/100 [==============================] - 22s 218ms/step - loss: 0.2385 - accuracy: 0.8980 - val_loss: 0.3660 - val_accuracy: 0.8300\n",
            "Epoch 26/50\n",
            "100/100 [==============================] - 22s 216ms/step - loss: 0.2401 - accuracy: 0.8970 - val_loss: 0.4795 - val_accuracy: 0.8000\n",
            "Epoch 27/50\n",
            "100/100 [==============================] - 22s 216ms/step - loss: 0.2404 - accuracy: 0.8950 - val_loss: 0.4174 - val_accuracy: 0.8200\n",
            "Epoch 28/50\n",
            "100/100 [==============================] - 22s 214ms/step - loss: 0.2537 - accuracy: 0.8960 - val_loss: 0.3332 - val_accuracy: 0.8700\n",
            "Epoch 29/50\n",
            "100/100 [==============================] - 22s 220ms/step - loss: 0.2538 - accuracy: 0.8950 - val_loss: 0.4213 - val_accuracy: 0.8500\n",
            "Epoch 30/50\n",
            "100/100 [==============================] - 22s 216ms/step - loss: 0.2366 - accuracy: 0.9050 - val_loss: 0.3471 - val_accuracy: 0.8100\n",
            "Epoch 31/50\n",
            "100/100 [==============================] - 22s 217ms/step - loss: 0.2614 - accuracy: 0.8815 - val_loss: 0.3976 - val_accuracy: 0.8400\n",
            "Epoch 32/50\n",
            "100/100 [==============================] - 22s 216ms/step - loss: 0.2488 - accuracy: 0.9010 - val_loss: 0.4603 - val_accuracy: 0.8100\n",
            "Epoch 33/50\n",
            "100/100 [==============================] - 22s 214ms/step - loss: 0.2305 - accuracy: 0.8940 - val_loss: 0.2484 - val_accuracy: 0.9300\n",
            "Epoch 34/50\n",
            "100/100 [==============================] - 22s 216ms/step - loss: 0.2293 - accuracy: 0.8980 - val_loss: 0.2917 - val_accuracy: 0.8800\n",
            "Epoch 35/50\n",
            "100/100 [==============================] - 21s 211ms/step - loss: 0.2327 - accuracy: 0.9066 - val_loss: 0.4488 - val_accuracy: 0.8000\n",
            "Epoch 36/50\n",
            "100/100 [==============================] - 22s 217ms/step - loss: 0.2211 - accuracy: 0.9070 - val_loss: 0.4258 - val_accuracy: 0.8200\n",
            "Epoch 37/50\n",
            "100/100 [==============================] - 22s 216ms/step - loss: 0.2018 - accuracy: 0.9190 - val_loss: 0.3174 - val_accuracy: 0.8600\n",
            "Epoch 38/50\n",
            "100/100 [==============================] - 22s 220ms/step - loss: 0.2549 - accuracy: 0.8940 - val_loss: 0.3328 - val_accuracy: 0.8600\n",
            "Epoch 39/50\n",
            "100/100 [==============================] - 22s 217ms/step - loss: 0.1951 - accuracy: 0.9110 - val_loss: 0.3289 - val_accuracy: 0.9200\n",
            "Epoch 40/50\n",
            "100/100 [==============================] - 22s 215ms/step - loss: 0.2117 - accuracy: 0.9167 - val_loss: 0.2040 - val_accuracy: 0.9100\n",
            "Epoch 41/50\n",
            "100/100 [==============================] - 21s 211ms/step - loss: 0.2102 - accuracy: 0.9120 - val_loss: 0.3152 - val_accuracy: 0.8600\n",
            "Epoch 42/50\n",
            "100/100 [==============================] - 22s 219ms/step - loss: 0.2097 - accuracy: 0.9190 - val_loss: 0.5866 - val_accuracy: 0.7900\n",
            "Epoch 43/50\n",
            "100/100 [==============================] - 22s 217ms/step - loss: 0.2440 - accuracy: 0.8890 - val_loss: 0.5030 - val_accuracy: 0.8300\n",
            "Epoch 44/50\n",
            "100/100 [==============================] - 21s 211ms/step - loss: 0.2077 - accuracy: 0.9180 - val_loss: 0.3482 - val_accuracy: 0.8500\n",
            "Epoch 45/50\n",
            "100/100 [==============================] - 21s 213ms/step - loss: 0.2126 - accuracy: 0.9150 - val_loss: 0.4335 - val_accuracy: 0.8000\n",
            "Epoch 46/50\n",
            "100/100 [==============================] - 22s 214ms/step - loss: 0.1914 - accuracy: 0.9247 - val_loss: 0.4273 - val_accuracy: 0.8600\n",
            "Epoch 47/50\n",
            "100/100 [==============================] - 22s 218ms/step - loss: 0.2109 - accuracy: 0.9180 - val_loss: 0.4201 - val_accuracy: 0.7900\n",
            "Epoch 48/50\n",
            "100/100 [==============================] - 22s 221ms/step - loss: 0.2422 - accuracy: 0.9000 - val_loss: 0.3071 - val_accuracy: 0.8500\n",
            "Epoch 49/50\n",
            "100/100 [==============================] - 22s 216ms/step - loss: 0.2036 - accuracy: 0.9200 - val_loss: 0.5170 - val_accuracy: 0.7900\n",
            "Epoch 50/50\n",
            "100/100 [==============================] - 22s 214ms/step - loss: 0.2217 - accuracy: 0.9016 - val_loss: 0.3094 - val_accuracy: 0.9000\n",
            "Total Training Time: 1093.6537477970123 seconds\n"
          ]
        }
      ]
    },
    {
      "cell_type": "code",
      "source": [
        "import matplotlib.pyplot as plt\n",
        "\n",
        "\n",
        "# Plotting accuracy\n",
        "plt.figure(figsize=(10, 6))\n",
        "plt.plot(history.history['accuracy'])\n",
        "plt.plot(history.history['val_accuracy'])\n",
        "plt.title('VGG19 Model Accuracy (Fine-Tuning)')\n",
        "plt.ylabel('Accuracy')\n",
        "plt.xlabel('Epoch')\n",
        "plt.legend(['Train', 'Validation'], loc='upper left')\n",
        "plt.show()"
      ],
      "metadata": {
        "colab": {
          "base_uri": "https://localhost:8080/",
          "height": 564
        },
        "id": "i3bYV8Avx9tm",
        "outputId": "fde6f92a-fcac-469b-d035-92c823fc721f"
      },
      "execution_count": 30,
      "outputs": [
        {
          "output_type": "display_data",
          "data": {
            "text/plain": [
              "<Figure size 1000x600 with 1 Axes>"
            ],
            "image/png": "[encoded data removed]"
          },
          "metadata": {}
        }
      ]
    },
    {
      "cell_type": "code",
      "source": [
        "from sklearn.metrics import classification_report, confusion_matrix\n",
        "\n",
        "# Get the ground truth labels and predictions\n",
        "Y_pred = model.predict(validation_generator)\n",
        "y_pred = (Y_pred > 0.5).astype(int)\n",
        "y_true = validation_generator.classes\n",
        "\n",
        "# Generate confusion matrix\n",
        "cm = confusion_matrix(y_true, y_pred)\n",
        "print(\"Confusion Matrix:\")\n",
        "print(cm)\n",
        "\n",
        "# Generate classification report with precision, recall, and F1 score\n",
        "print(\"Classification Report:\")\n",
        "print(classification_report(y_true, y_pred))"
      ],
      "metadata": {
        "colab": {
          "base_uri": "https://localhost:8080/"
        },
        "id": "2qNCWfmp1w2W",
        "outputId": "d8d96787-a377-468f-ebdb-1d24ccf2fc18"
      },
      "execution_count": 31,
      "outputs": [
        {
          "output_type": "stream",
          "name": "stdout",
          "text": [
            "63/63 [==============================] - 5s 75ms/step\n",
            "Confusion Matrix:\n",
            "[[ 78 156]\n",
            " [152 238]]\n",
            "Classification Report:\n",
            "              precision    recall  f1-score   support\n",
            "\n",
            "           0       0.34      0.33      0.34       234\n",
            "           1       0.60      0.61      0.61       390\n",
            "\n",
            "    accuracy                           0.51       624\n",
            "   macro avg       0.47      0.47      0.47       624\n",
            "weighted avg       0.50      0.51      0.51       624\n",
            "\n"
          ]
        }
      ]
    },
    {
      "cell_type": "code",
      "source": [
        "start_time = time.time()\n",
        "\n",
        "# Perform inference on some sample data\n",
        "sample_data = validation_generator.next()\n",
        "predictions = model.predict(sample_data[0])\n",
        "\n",
        "end_time = time.time()\n",
        "inference_time = end_time - start_time\n",
        "print(\"Inference Time: {} seconds\".format(inference_time))"
      ],
      "metadata": {
        "id": "JIAfbKCh13SK",
        "colab": {
          "base_uri": "https://localhost:8080/"
        },
        "outputId": "c247d167-7367-474b-8a4b-23a7998c501a"
      },
      "execution_count": 32,
      "outputs": [
        {
          "output_type": "stream",
          "name": "stdout",
          "text": [
            "1/1 [==============================] - 0s 194ms/step\n",
            "Inference Time: 0.3659062385559082 seconds\n"
          ]
        }
      ]
    }
  ]
}